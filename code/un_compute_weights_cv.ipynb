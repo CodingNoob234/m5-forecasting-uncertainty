{
 "cells": [
  {
   "cell_type": "code",
   "execution_count": null,
   "metadata": {},
   "outputs": [],
   "source": [
    "import os, sys, math, gc\n",
    "from tqdm import tqdm\n",
    "import numpy as np\n",
    "import pandas as pd\n",
    "import matplotlib.pyplot as plt\n",
    "from sklearn.model_selection import train_test_split\n",
    "from statsmodels.graphics.tsaplots import plot_pacf, plot_acf\n",
    "import seaborn as sns\n",
    "import lightgbm as lgb\n",
    "import pickle as pkl\n",
    "from utils.utils import merge_eval_sold_on_df, sort_df_on_d, WRMSSE, RMSSE, _down_cast, data_preprocessing, diff_lists, log_status\n",
    "from utils.utils import customIter, cross_validation_on_validation_set, ensemble_submissions\n",
    "\n",
    "from utils.configure_logger import configure_logger\n",
    "configure_logger()\n",
    "from logging import getLogger\n",
    "logger = getLogger(__name__)\n",
    "\n",
    "import warnings\n",
    "warnings.simplefilter(\"ignore\")"
   ]
  },
  {
   "cell_type": "code",
   "execution_count": null,
   "metadata": {},
   "outputs": [],
   "source": [
    "DATA_BASE_PATH = '../data/m5-forecasting-accuracy/'\n",
    "DATA_BASE_PATH_UNCERTAINTY = '../data/m5-forecasting-uncertainty/'\n",
    "SALES_EVALUATION = 'sales_train_evaluation.csv'\n",
    "SALES_VALIDATION = 'sales_train_validation.csv'\n",
    "CALENDAR = 'calendar.csv'\n",
    "SAMPLE_SUBMISSION = 'sample_submission.csv'\n",
    "SELL_PRICES = 'sell_prices.csv'\n",
    "\n",
    "PRECOMPUTED_BASE_PATH = '../data/uncertainty/features/'\n",
    "\n",
    "DAYS: int = 28\n",
    "QUANTILES: int = [0.005, 0.025, 0.165, 0.25, 0.50, 0.75, 0.835, 0.975, 0.995]\n",
    "\n",
    "AGG_LEVEL_COLUMNS = {\n",
    "    \"Level1\": [], # no grouping, sum of all\n",
    "    \"Level2\": ['state_id'],\n",
    "    \"Level3\": ['store_id'],\n",
    "    \"Level4\": ['cat_id'],\n",
    "    \"Level5\": ['dept_id'],\n",
    "    \"Level6\": ['state_id', 'cat_id'],\n",
    "    \"Level7\": ['state_id', 'dept_id'],\n",
    "    \"Level8\": ['store_id', 'cat_id'],\n",
    "    \"Level9\": ['store_id', 'dept_id'],\n",
    "    \"Level10\": ['item_id'],\n",
    "    \"Level11\": ['state_id', 'item_id'],\n",
    "    \"Level12\": ['item_id','store_id'],\n",
    "}"
   ]
  }
 ],
 "metadata": {
  "kernelspec": {
   "display_name": "my_tf_env",
   "language": "python",
   "name": "python3"
  },
  "language_info": {
   "codemirror_mode": {
    "name": "ipython",
    "version": 3
   },
   "file_extension": ".py",
   "mimetype": "text/x-python",
   "name": "python",
   "nbconvert_exporter": "python",
   "pygments_lexer": "ipython3",
   "version": "3.9.16"
  },
  "orig_nbformat": 4
 },
 "nbformat": 4,
 "nbformat_minor": 2
}
