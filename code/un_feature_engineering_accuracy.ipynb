{
 "cells": [
  {
   "cell_type": "code",
   "execution_count": 1,
   "metadata": {},
   "outputs": [],
   "source": [
    "import os, sys, math, gc\n",
    "from tqdm import tqdm\n",
    "import numpy as np\n",
    "import pandas as pd\n",
    "import matplotlib.pyplot as plt\n",
    "import pickle as pkl\n",
    "from utils.utils import merge_eval_sold_on_df, sort_df_on_d, WRMSSE, RMSSE, _down_cast, data_preprocessing, diff_lists, log_status #create_submission_df\n",
    "from utils.utils import customIter\n",
    "\n",
    "from utils.configure_logger import configure_logger\n",
    "configure_logger()\n",
    "from logging import getLogger\n",
    "logger = getLogger(__name__)\n",
    "\n",
    "import warnings\n",
    "warnings.simplefilter(\"ignore\")"
   ]
  },
  {
   "cell_type": "code",
   "execution_count": 3,
   "metadata": {},
   "outputs": [],
   "source": [
    "DATA_BASE_PATH = '../data/m5-forecasting-accuracy/'\n",
    "SALES_EVALUATION = 'sales_train_evaluation.csv'\n",
    "SALES_VALIDATION = 'sales_train_validation.csv'\n",
    "CALENDAR = 'calendar.csv'\n",
    "SAMPLE_SUBMISSION = 'sample_submission.csv'\n",
    "SELL_PRICES = 'sell_prices.csv'\n",
    "\n",
    "PRECOMPUTED_BASE_PATH = '../data/uncertainty/features/'\n",
    "\n",
    "DAYS: int = 28"
   ]
  },
  {
   "cell_type": "code",
   "execution_count": 4,
   "metadata": {},
   "outputs": [],
   "source": [
    "# read all data\n",
    "sales_validation: pd.DataFrame = _down_cast(pd.read_csv(DATA_BASE_PATH + SALES_VALIDATION))\n",
    "sales_evaluation: pd.DataFrame = _down_cast(pd.read_csv(DATA_BASE_PATH + SALES_EVALUATION))\n",
    "calendar: pd.DataFrame = _down_cast(pd.read_csv(DATA_BASE_PATH + CALENDAR))\n",
    "sample_submission: pd.DataFrame = _down_cast(pd.read_csv(DATA_BASE_PATH + SAMPLE_SUBMISSION))\n",
    "sell_prices: pd.DataFrame = _down_cast(pd.read_csv(DATA_BASE_PATH + SELL_PRICES))"
   ]
  },
  {
   "attachments": {},
   "cell_type": "markdown",
   "metadata": {},
   "source": [
    "### Feature Engineering and Cross Validation"
   ]
  },
  {
   "cell_type": "markdown",
   "metadata": {},
   "source": [
    "#### Test Runs"
   ]
  },
  {
   "cell_type": "code",
   "execution_count": 6,
   "metadata": {},
   "outputs": [],
   "source": [
    "# ~25 seconds\n",
    "df, submission_idx = data_preprocessing(sales_evaluation.iloc[:int(20)], calendar, sell_prices)\n",
    "df = df[(df.wm_yr_wk > df.release)]\n",
    "df['id'] = df['id'].astype(str)"
   ]
  },
  {
   "cell_type": "code",
   "execution_count": 7,
   "metadata": {},
   "outputs": [
    {
     "data": {
      "text/plain": [
       "20"
      ]
     },
     "execution_count": 7,
     "metadata": {},
     "output_type": "execute_result"
    }
   ],
   "source": [
    "df.groupby('id')['sold'].ngroups#.rolling(3).mean()"
   ]
  },
  {
   "cell_type": "code",
   "execution_count": 8,
   "metadata": {},
   "outputs": [],
   "source": [
    "\n",
    "@log_status\n",
    "def compute_features(df: pd.DataFrame):\n",
    "    feature_columns = []\n",
    "    feature_columns += ['sell_price'] + ['id', 'item_id', 'dept_id', 'cat_id', 'store_id', 'd', 'sold']\n",
    "    \n",
    "    # precomputing\n",
    "    df[\"index\"] = df.index\n",
    "    df[\"d_int\"] = df[\"d\"].apply(lambda x: int(x.split(\"_\")[-1]))\n",
    "    df[\"day\"] = str(df.date.dt.day)\n",
    "    \n",
    "    ################################################\n",
    "    ############### AUTOCORRELATION ################\n",
    "    ################################################\n",
    "    PREFIX = 'auto_'\n",
    "    logger.info('Computing autocorrelation features')\n",
    "    # DIRECT LAGGED VALUES\n",
    "    old_columns: set = set(df.columns)\n",
    "    LAG_SHIFT: int = 28\n",
    "    for lag in [1, 2, 7, 14, 21]:\n",
    "        df[PREFIX + f\"sold_{lag}\"] = df.groupby(\"id\")[\"sold\"].shift(lag+LAG_SHIFT) # 1-day lag\n",
    "    feature_columns += list(set(df.columns) - old_columns)\n",
    "    \n",
    "    # MOVING AVERAGES\n",
    "    old_columns: set = set(df.columns)\n",
    "    for i in [7, 14, 21, 28, 60, 180]:\n",
    "        df[PREFIX + f'sold_ma_{i}'] = df.groupby(['id'])['sold'].transform(lambda x: x.shift(LAG_SHIFT).rolling(i).mean()).astype(np.float16)\n",
    "        df[PREFIX + f'sold_ma_std_{i}'] = df.groupby(['id'])['sold'].transform(lambda x: x.shift(LAG_SHIFT).rolling(i).std()).astype(np.float16)\n",
    "    feature_columns += list(set(df.columns) - old_columns)\n",
    "    \n",
    "    # # EXPONENTIAL SMOOTHING AVERAGES\n",
    "    # old_columns: set = set(df.columns)\n",
    "    # df['sold_ewm_0.05'] = df.groupby('id')['sold'].transform(lambda x: x.ewm(alpha=0.05).mean().shift(1))\n",
    "    # df['sold_ewm_0.1'] = df.groupby('id')['sold'].transform(lambda x: x.ewm(alpha=0.1).mean().shift(1))\n",
    "    # df['sold_ewm_0.2'] = df.groupby('id')['sold'].transform(lambda x: x.ewm(alpha=0.2).mean().shift(1))\n",
    "    # df['sold_ewm_0.01'] = df.groupby('id')['sold'].transform(lambda x: x.ewm(alpha=0.01).mean().shift(1))\n",
    "    # feature_columns += list(set(df.columns) - old_columns)\n",
    "    \n",
    "    # # DIFFERENCES\n",
    "    # old_columns = set(df.columns)\n",
    "    # feature_columns += list(set(df.columns) - old_columns)\n",
    "    \n",
    "    ###############################################\n",
    "    ############ PRICE AUTOCORRELATION ############\n",
    "    ###############################################\n",
    "    logger.info('Computing price autocorrelation features')\n",
    "    # # DIRECT LAGGED VALUES\n",
    "    # old_columns = set(df.columns)\n",
    "    # feature_columns += list(set(df.columns) - old_columns)\n",
    "    \n",
    "    # # MOVING AVERAGES\n",
    "    # old_columns = set(df.columns)\n",
    "    # feature_columns += list(set(df.columns) - old_columns)\n",
    "    \n",
    "    # # EXPONENTIAL SMOOTHING AVERAGES\n",
    "    # old_columns = set(df.columns)\n",
    "    # feature_columns += list(set(df.columns) - old_columns)\n",
    "    \n",
    "    # PRICE DIFFERENCES\n",
    "    PREFIX = 'momentum_'\n",
    "    old_columns = set(df.columns)\n",
    "    df[PREFIX + 'sell_price_w'] = df['sell_price'] / df.groupby(['id', 'wm_yr_wk'])['sell_price'].transform(lambda x: x.shift(1))\n",
    "    df[PREFIX + 'sell_price_m'] = df['sell_price'] / df.groupby(['id', 'year', 'month'])['sell_price'].transform(lambda x: x.shift(1))\n",
    "    df[PREFIX + 'sell_price_y'] = df['sell_price'] / df.groupby(['id', 'year'])['sell_price'].transform(lambda x: x.shift(1))\n",
    "    feature_columns += list(set(df.columns) - old_columns)\n",
    "\n",
    "    ################################################\n",
    "    ############ PRODUCT CHARACTERISTICS ###########\n",
    "    ################################################\n",
    "    logger.info('Computing unconditional sold values')\n",
    "    # UNCONDITIONAL SALES\n",
    "    PREFIX = 'unconditional_'\n",
    "    # old_columns = set(df.columns)\n",
    "    # df['sold_mean'] = df.groupby(['id'])['sold'].transform(lambda x: x.mean())\n",
    "    # df['sold_std'] = df.groupby(['id'])['sold'].transform(lambda x: x.std())\n",
    "    # df['sold_max'] = df.groupby(['id'])['sold'].transform(lambda x: x.max())\n",
    "    # feature_columns += list(set(df.columns) - old_columns)\n",
    "    old_columns = set(df.columns)    \n",
    "    icols =  [\n",
    "        ['state_id'],\n",
    "        ['store_id'],\n",
    "        ['cat_id'],\n",
    "        ['dept_id'],\n",
    "        ['state_id', 'cat_id'],\n",
    "        ['state_id', 'dept_id'],\n",
    "        ['store_id', 'cat_id'],\n",
    "        ['store_id', 'dept_id'],\n",
    "        ['item_id'],\n",
    "        ['item_id', 'state_id'],\n",
    "        ['item_id', 'store_id']\n",
    "    ]\n",
    "    for col in icols:\n",
    "        col_name = '_'+'_'.join(col)+'_'\n",
    "        df[PREFIX + 'sold'+col_name+'median'] = df.groupby(col)['sold'].transform('median').astype(np.float16)\n",
    "        df[PREFIX + 'sold'+col_name+'mean'] = df.groupby(col)['sold'].transform('mean').astype(np.float16)\n",
    "        df[PREFIX + 'sold'+col_name+'std'] = df.groupby(col)['sold'].transform('std').astype(np.float16)\n",
    "    feature_columns += list(set(df.columns) - old_columns)\n",
    "\n",
    "    ################################################\n",
    "    ############## SEASONAL FEATURES ###############\n",
    "    ################################################\n",
    "    logger.info('Encoding date features to dummies')\n",
    "    PREFIX = 'seasonal_'\n",
    "    # WEEK / MONTH DUMMIES\n",
    "    encode_columns = ['weekday', 'month']\n",
    "    old_columns = set(df.columns)\n",
    "    df = pd.get_dummies(df, columns = encode_columns, prefix=PREFIX, prefix_sep='')\n",
    "    feature_columns += list(set(df.columns) - old_columns)\n",
    "    \n",
    "    # for day, no dummy encoding\n",
    "    df['seasonal_d_int'] = df['d_int']\n",
    "    feature_columns += ['seasonal_d_int']\n",
    "    \n",
    "    # return final results\n",
    "    df = _down_cast(df)\n",
    "    return df[feature_columns]"
   ]
  },
  {
   "cell_type": "code",
   "execution_count": 9,
   "metadata": {},
   "outputs": [
    {
     "name": "stderr",
     "output_type": "stream",
     "text": [
      "2023-08-10 18:18:03 - compute_features - INFO - calling\n",
      "2023-08-10 18:18:03 - __main__ - INFO - Computing autocorrelation features\n",
      "2023-08-10 18:18:04 - __main__ - INFO - Computing price autocorrelation features\n",
      "2023-08-10 18:18:04 - __main__ - INFO - Computing unconditional sold values\n",
      "2023-08-10 18:18:04 - __main__ - INFO - Encoding date features to dummies\n"
     ]
    },
    {
     "name": "stdout",
     "output_type": "stream",
     "text": [
      "(33675, 70)\n"
     ]
    }
   ],
   "source": [
    "# total ~77 seconds\n",
    "features = compute_features(df.copy())\n",
    "print(features.shape)"
   ]
  },
  {
   "cell_type": "code",
   "execution_count": 10,
   "metadata": {},
   "outputs": [
    {
     "data": {
      "text/plain": [
       "<Axes: >"
      ]
     },
     "execution_count": 10,
     "metadata": {},
     "output_type": "execute_result"
    },
    {
     "data": {
      "image/png": "[encoded data removed]",
      "text/plain": [
       "<Figure size 640x480 with 1 Axes>"
      ]
     },
     "metadata": {},
     "output_type": "display_data"
    }
   ],
   "source": [
    "features[features['id'] == 'HOBBIES_1_008_CA_1_evaluation'][['sold', 'auto_sold_ma_7', 'auto_sold_ma_21', 'auto_sold_ma_60']].plot()"
   ]
  },
  {
   "cell_type": "code",
   "execution_count": 11,
   "metadata": {},
   "outputs": [
    {
     "data": {
      "text/plain": [
       "Index(['sell_price', 'id', 'item_id', 'dept_id', 'cat_id', 'store_id', 'd',\n",
       "       'sold', 'auto_sold_21', 'auto_sold_1', 'auto_sold_14', 'auto_sold_7',\n",
       "       'auto_sold_2', 'auto_sold_ma_60', 'auto_sold_ma_std_60',\n",
       "       'auto_sold_ma_28', 'auto_sold_ma_180', 'auto_sold_ma_std_28',\n",
       "       'auto_sold_ma_14', 'auto_sold_ma_std_21', 'auto_sold_ma_21',\n",
       "       'auto_sold_ma_std_180', 'auto_sold_ma_7', 'auto_sold_ma_std_14',\n",
       "       'auto_sold_ma_std_7', 'momentum_sell_price_m', 'momentum_sell_price_y',\n",
       "       'momentum_sell_price_w', 'unconditional_sold_store_id_dept_id_mean',\n",
       "       'unconditional_sold_state_id_dept_id_std',\n",
       "       'unconditional_sold_state_id_cat_id_std',\n",
       "       'unconditional_sold_cat_id_std',\n",
       "       'unconditional_sold_state_id_dept_id_mean',\n",
       "       'unconditional_sold_item_id_state_id_mean',\n",
       "       'unconditional_sold_item_id_store_id_std',\n",
       "       'unconditional_sold_store_id_std', 'unconditional_sold_state_id_mean',\n",
       "       'unconditional_sold_item_id_std', 'unconditional_sold_dept_id_mean',\n",
       "       'unconditional_sold_state_id_std', 'unconditional_sold_store_id_mean',\n",
       "       'unconditional_sold_store_id_cat_id_mean',\n",
       "       'unconditional_sold_dept_id_std',\n",
       "       'unconditional_sold_item_id_state_id_std',\n",
       "       'unconditional_sold_store_id_cat_id_std',\n",
       "       'unconditional_sold_item_id_mean',\n",
       "       'unconditional_sold_state_id_cat_id_mean',\n",
       "       'unconditional_sold_store_id_dept_id_std',\n",
       "       'unconditional_sold_cat_id_mean',\n",
       "       'unconditional_sold_item_id_store_id_mean', 'seasonal_Thursday',\n",
       "       'seasonal_7', 'seasonal_9', 'seasonal_Friday', 'seasonal_10',\n",
       "       'seasonal_2', 'seasonal_12', 'seasonal_8', 'seasonal_3', 'seasonal_1',\n",
       "       'seasonal_Saturday', 'seasonal_Tuesday', 'seasonal_4', 'seasonal_11',\n",
       "       'seasonal_6', 'seasonal_5', 'seasonal_Sunday', 'seasonal_Monday',\n",
       "       'seasonal_Wednesday', 'seasonal_d_int'],\n",
       "      dtype='object')"
      ]
     },
     "execution_count": 11,
     "metadata": {},
     "output_type": "execute_result"
    }
   ],
   "source": [
    "features.columns"
   ]
  },
  {
   "attachments": {},
   "cell_type": "markdown",
   "metadata": {},
   "source": [
    "###"
   ]
  },
  {
   "cell_type": "markdown",
   "metadata": {},
   "source": [
    "### Final Runs for Validation and Evaluation"
   ]
  },
  {
   "cell_type": "code",
   "execution_count": 12,
   "metadata": {},
   "outputs": [],
   "source": [
    "\n",
    "# pivot initial dataframe and compute features/targets\n",
    "df_val, submission_idx_validation = data_preprocessing(sales_validation, calendar, sell_prices)\n",
    "df_val_after_release = df_val[(df_val.wm_yr_wk > df_val.release)]\n",
    "del df_val"
   ]
  },
  {
   "cell_type": "code",
   "execution_count": 13,
   "metadata": {},
   "outputs": [
    {
     "name": "stderr",
     "output_type": "stream",
     "text": [
      "2023-08-10 18:18:45 - compute_features - INFO - calling\n",
      "2023-08-10 18:18:59 - __main__ - INFO - Computing autocorrelation features\n",
      "2023-08-10 18:21:27 - __main__ - INFO - Computing price autocorrelation features\n",
      "2023-08-10 18:37:09 - __main__ - INFO - Computing unconditional sold values\n",
      "2023-08-10 18:37:27 - __main__ - INFO - Encoding date features to dummies\n"
     ]
    }
   ],
   "source": [
    "features = compute_features(df_val_after_release)\n",
    "for c in features.columns:\n",
    "    if c not in ['id', 'item_id', 'dept_id', 'cat_id', 'store_id', 'd']:\n",
    "        features[c] = features[c].astype(np.float32)\n",
    "features.to_parquet(PRECOMPUTED_BASE_PATH + 'features_val.parquet', index=False)\n",
    "del df_val_after_release\n",
    "del features"
   ]
  },
  {
   "cell_type": "code",
   "execution_count": 14,
   "metadata": {},
   "outputs": [],
   "source": [
    "# pivot initial dataframe and compute features/targets\n",
    "df_eval, submission_idx_validation = data_preprocessing(sales_evaluation, calendar, sell_prices)\n",
    "df_eval_after_release = df_eval[(df_eval.wm_yr_wk > df_eval.release)]\n",
    "del df_eval"
   ]
  },
  {
   "cell_type": "code",
   "execution_count": 15,
   "metadata": {},
   "outputs": [
    {
     "name": "stderr",
     "output_type": "stream",
     "text": [
      "2023-08-10 18:39:47 - compute_features - INFO - calling\n",
      "2023-08-10 18:40:00 - __main__ - INFO - Computing autocorrelation features\n",
      "2023-08-10 18:42:19 - __main__ - INFO - Computing price autocorrelation features\n",
      "2023-08-10 18:58:33 - __main__ - INFO - Computing unconditional sold values\n",
      "2023-08-10 18:58:52 - __main__ - INFO - Encoding date features to dummies\n"
     ]
    }
   ],
   "source": [
    "features = compute_features(df_eval_after_release)\n",
    "for c in features.columns:\n",
    "    if c not in ['id', 'item_id', 'dept_id', 'cat_id', 'store_id', 'd']:\n",
    "        features[c] = features[c].astype(np.float32)\n",
    "features.to_parquet(PRECOMPUTED_BASE_PATH + 'features_eval.parquet', index=False)\n",
    "del df_eval_after_release\n",
    "del features"
   ]
  },
  {
   "cell_type": "code",
   "execution_count": null,
   "metadata": {},
   "outputs": [],
   "source": []
  },
  {
   "cell_type": "markdown",
   "metadata": {},
   "source": []
  }
 ],
 "metadata": {
  "kernelspec": {
   "display_name": "my_tf_env",
   "language": "python",
   "name": "python3"
  },
  "language_info": {
   "codemirror_mode": {
    "name": "ipython",
    "version": 3
   },
   "file_extension": ".py",
   "mimetype": "text/x-python",
   "name": "python",
   "nbconvert_exporter": "python",
   "pygments_lexer": "ipython3",
   "version": "3.9.16"
  },
  "orig_nbformat": 4
 },
 "nbformat": 4,
 "nbformat_minor": 2
}
